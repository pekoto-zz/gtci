{
 "cells": [
  {
   "cell_type": "markdown",
   "metadata": {},
   "source": [
    "# Sliding Window\n",
    "\n",
    "Clue: Given list, find something among continuous sublists.\n",
    "\n",
    "\n",
    "\n",
    "__Example:__ <blockquote>Given an array, find the average of all contiguous subarrays of size ‘K’ in it.</blockquote>\n",
    "\n",
    "Sometimes the window size is fixed, and at other times it changes depending on the problem constraints."
   ]
  },
  {
   "cell_type": "markdown",
   "metadata": {},
   "source": [
    "The general approach is as follows:\n",
    "\n",
    "```\n",
    "1. Set up start_pointer, condition_count, answer\n",
    "2. Get the next thing in the array\n",
    "3. If the condition is met, update the answer.\n",
    "4. While the invariant doesn't hold, move the start pointer\n",
    "```"
   ]
  },
  {
   "cell_type": "markdown",
   "metadata": {},
   "source": [
    "Example question:\n",
    "    \n",
    "<blockquote>Given an array of positive numbers and a positive number ‘S,’ find the length of the smallest contiguous subarray whose sum is greater than or equal to ‘S’. Return 0 if no such subarray exists.</blockquote>\n",
    "    \n",
    "```\n",
    "Input: [2, 1, 5, 2, 3, 2], S=7 \n",
    "Output: 2\n",
    "Explanation: The smallest subarray with a sum greater than or equal to '7' is [5, 2].\n",
    "```"
   ]
  },
  {
   "cell_type": "markdown",
   "metadata": {},
   "source": [
    "```python\n",
    "def smallest_subarray_with_given_sum(s, arr):\n",
    "  current_sum = 0\n",
    "  min_length = math.inf\n",
    "  start_pointer = 0\n",
    "\n",
    "  for end_pointer in range(0, len(arr)):\n",
    "    current_sum += arr[end_pointer]  # add the next element\n",
    "    # shrink the window as small as possible until the 'window_sum' is smaller than 's'\n",
    "    while current_sum >= s:\n",
    "      min_length = min(min_length, end_pointer - start_pointer + 1)\n",
    "      current_sum -= arr[start_pointer]\n",
    "      start_pointer += 1\n",
    "  \n",
    "  if min_length == math.inf:\n",
    "    return 0\n",
    "\n",
    "  return min_length\n",
    "```"
   ]
  },
  {
   "cell_type": "markdown",
   "metadata": {},
   "source": [
    "We may get a harder problem. For example:\n",
    "\n",
    "<blockquote>Given a string with lowercase letters only, if you are allowed to replace no more than ‘k’ letters with any letter, find the length of the longest substring having the same letters after replacement.</blockquote>\n",
    "\n",
    "```\n",
    "Input: String=\"aabccbb\", k=2\n",
    "Output: 5\n",
    "Explanation: Replace the two 'c' with 'b' to have a longest repeating substring \"bbbbb\".\n",
    "```\n",
    "\n",
    "In this case: remember, the algorithm stays the same. The challenge is just to figure out a way to track the and maintain the invariant.\n",
    "\n",
    "```python\n",
    "def length_of_longest_substring(str1, k):\n",
    "  # String=\"aabccbb\", k=2, Output: 5\n",
    "  # Start:  ^\n",
    "  # End:    ^\n",
    "  # Algorithm: \n",
    "  # Keep track of the window length and reapting char count.\n",
    "  # (window_length - repeating char count) gives us the number of chars that\n",
    "  # need to be replaced. If this is > k, we need to shrink the window.\n",
    "  # E.g., Window len: 5, 2 repeating chars. We need to replace 3 (5-2). But k is 2.\n",
    "  # So shrink the window by one.\n",
    "  # Time:  O(n)\n",
    "  # Space: O(1) [fixed number of chars in the map]\n",
    "  start_pointer = 0\n",
    "  max_len = 0\n",
    "  repeating_char_count = 0\n",
    "  char_counts = {}\n",
    "\n",
    "  for end_pointer in range(len(str1)):\n",
    "    current_char = str1[end_pointer]\n",
    "\n",
    "    if current_char not in char_counts:\n",
    "      char_counts[current_char] = 0\n",
    "    \n",
    "    char_counts[current_char] += 1\n",
    "\n",
    "    # Either the current char is a new max repeating char,\n",
    "    # or we have another that is more.\n",
    "    repeating_char_count = max(repeating_char_count, char_counts[current_char])\n",
    "  \n",
    "    # We have to replace more than k repeating chars, shrink the window\n",
    "    if ((end_pointer-start_pointer)+1 - repeating_char_count) > k:\n",
    "      start_char = str1[start_pointer]\n",
    "      char_counts[start_char] -= 1\n",
    "      start_pointer += 1\n",
    "    \n",
    "    max_len = max(max_len, (end_pointer-start_pointer)+1)\n",
    "\n",
    "  return max_len\n",
    "```"
   ]
  },
  {
   "cell_type": "markdown",
   "metadata": {},
   "source": [
    "## Example Problems\n",
    "\n",
    "* Maximum Sum Subarray of Size K\n",
    "* Smallest Subarray with a given sum\n",
    "* Longest Substring with maximum K Distinct Characters\n",
    "* No-repeat Substring\n",
    "* Longest Substring with Same Letters after Replacement\n",
    "* Check if string contains any permutation of pattern\n",
    "* Find all anagrams of a pattern in a string\n",
    "* Smallest window containing substring"
   ]
  },
  {
   "cell_type": "code",
   "execution_count": null,
   "metadata": {},
   "outputs": [],
   "source": []
  }
 ],
 "metadata": {
  "kernelspec": {
   "display_name": "Python 3",
   "language": "python",
   "name": "python3"
  },
  "language_info": {
   "codemirror_mode": {
    "name": "ipython",
    "version": 3
   },
   "file_extension": ".py",
   "mimetype": "text/x-python",
   "name": "python",
   "nbconvert_exporter": "python",
   "pygments_lexer": "ipython3",
   "version": "3.8.5"
  }
 },
 "nbformat": 4,
 "nbformat_minor": 4
}
