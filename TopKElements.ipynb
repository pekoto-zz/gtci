{
 "cells": [
  {
   "cell_type": "markdown",
   "metadata": {},
   "source": [
    "# Top K Elements\n",
    "\n",
    "Any pattern to find the top/bottom/most frequent k elements falls under this pattern.\n",
    "\n",
    "A heap is the most useful data structure for this.\n",
    "\n",
    "__HINT:__ If we want to find the top _min_ elements we should use a _max_ heap (so we can track the largest thing and easily get rid of it). If we want to track the top _max_ elements, we should use a _min_ heap (so we can track the smallest thing and easily get rid of it.\n",
    "\n",
    "## Example\n",
    "\n",
    "```python\n",
    "def find_k_largest_numbers(nums, k):\n",
    "  # Find the max k elements in an array.\n",
    "  # [3, 1, 5, 12, 2, 11], K = 3 | Output: [5, 12, 11]\n",
    "  # 1. Declare a min heap\n",
    "  # 2. Push on k elements\n",
    "  # 3. For the result of the numbers, if they're greater than the\n",
    "  #    min element, pop the min element and push it on.\n",
    "  # Time: O(n log k)\n",
    "  # Space: O(k)\n",
    "  result = []\n",
    "\n",
    "  for i in range(k):\n",
    "    heappush(result, nums[i])\n",
    "\n",
    "  for i in range(k, len(nums)):\n",
    "    if nums[i] > result[0]:\n",
    "      heappop(result)\n",
    "      heappush(result, nums[i])\n",
    "\n",
    "  return result\n",
    "```\n",
    "\n",
    "## Example\n",
    "\n",
    "If the above is a little tricky, we can also just use the _\"pop when over k\"_ approach.\n",
    "\n",
    "```python\n",
    "\n",
    "def find_k_most_frequent(nums, k):\n",
    "  counts = Counter(nums)\n",
    "  min_heap = []\n",
    "\n",
    "  for num, count in counts.items():\n",
    "    heappush(min_heap, (count, num))\n",
    "    if len(min_heap) > k:\n",
    "      heappop(min_heap)\n",
    "\n",
    "  return [item[1] for item in min_heap]\n",
    "\n",
    "```\n",
    "\n",
    "## Top K Questions\n",
    "\n",
    "* Find the top K numbers\n",
    "* Find the Kth smallest / largest number\n",
    "* Find K closest points / numbers\n",
    "* Sort string by frequency of it's characters\n",
    "* Rearrange string / tasks so chars are not consecutive, or have gaps between them\n",
    "* Design a stack class that returns the most frequent number"
   ]
  },
  {
   "cell_type": "code",
   "execution_count": null,
   "metadata": {},
   "outputs": [],
   "source": []
  }
 ],
 "metadata": {
  "kernelspec": {
   "display_name": "Python 3",
   "language": "python",
   "name": "python3"
  },
  "language_info": {
   "codemirror_mode": {
    "name": "ipython",
    "version": 3
   },
   "file_extension": ".py",
   "mimetype": "text/x-python",
   "name": "python",
   "nbconvert_exporter": "python",
   "pygments_lexer": "ipython3",
   "version": "3.8.5"
  }
 },
 "nbformat": 4,
 "nbformat_minor": 4
}
