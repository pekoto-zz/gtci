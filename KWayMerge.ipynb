{
 "cells": [
  {
   "cell_type": "markdown",
   "metadata": {},
   "source": [
    "# K-Way Merge\n",
    "\n",
    "This pattern helps us solve problems that involve a list of sorted arrays.\n",
    "\n",
    "When we have __k sorted arrays__, we can use a __heap__ to solve the problem.\n",
    "\n",
    "1. Push the smallest element for all arrays into a min heap to get the overall min\n",
    "2. While inserting, keep track of which array the element came from\n",
    "3. Then, when we get this element, we can push the next element from this same array\n",
    "\n",
    "## Example\n",
    "\n",
    "```python\n",
    "class ListNode:\n",
    "  def __init__(self, value):\n",
    "    self.value = value\n",
    "    self.next = None\n",
    "\n",
    "  def __lt__(self, other):\n",
    "    return self.value < other.value\n",
    "\n",
    "def merge_lists(lists):\n",
    "  # Merge a list of sorted lists\n",
    "  # Input: L1=[2, 6, 8], L2=[3, 6, 7], L3=[1, 3, 4]\n",
    "  # Output: [1, 2, 3, 3, 4, 6, 6, 7, 8]\n",
    "  #\n",
    "  # 1. Put every node in a min heap\n",
    "  # 2. Take the min node\n",
    "  # 3. Add it to the result list\n",
    "  # 4. If it's start of the list, set up the tail too\n",
    "  #    Else, move the tail\n",
    "  # 5. If the min node has another node, put that in the list too\n",
    "  #\n",
    "  # Time: O(n log k), where n is the total elements, and k is the number of lists\n",
    "  # Space: O(k), where k is number of lists for the min heap\n",
    "\n",
    "  result_head = None\n",
    "  result_tail = None\n",
    "  min_heap = []\n",
    "\n",
    "  for node in lists:\n",
    "    heappush(min_heap, node)\n",
    "\n",
    "  while min_heap:\n",
    "    node = heappop(min_heap)\n",
    "    \n",
    "    if not result_head:\n",
    "      result_head = result_tail = node\n",
    "    else:\n",
    "      result_tail.next = node\n",
    "      result_tail = result_tail.next\n",
    "\n",
    "    if node.next:\n",
    "      heappush(min_heap, node.next)\n",
    "\n",
    "  return result_head\n",
    "```"
   ]
  },
  {
   "cell_type": "code",
   "execution_count": null,
   "metadata": {},
   "outputs": [],
   "source": [
    " "
   ]
  }
 ],
 "metadata": {
  "kernelspec": {
   "display_name": "Python 3",
   "language": "python",
   "name": "python3"
  },
  "language_info": {
   "codemirror_mode": {
    "name": "ipython",
    "version": 3
   },
   "file_extension": ".py",
   "mimetype": "text/x-python",
   "name": "python",
   "nbconvert_exporter": "python",
   "pygments_lexer": "ipython3",
   "version": "3.8.5"
  }
 },
 "nbformat": 4,
 "nbformat_minor": 4
}
