{
 "cells": [
  {
   "cell_type": "markdown",
   "metadata": {},
   "source": [
    "# Fast & Slow Pointers\n",
    "\n",
    "Aka, the Hare & Toirtoise algorithm. It involves moving through a linked list or array with two pointers at different speeds. Useful when dealing with cyclic collections.\n",
    "\n",
    "By moving at different speeds, the pointers should at some point meet.\n",
    "\n",
    "A classic example of this problem is finding a cycle in a linked list.\n",
    "\n",
    "```python\n",
    "class Node:\n",
    "  def __init__(self, value, next=None):\n",
    "    self.value = value\n",
    "    self.next = next\n",
    "\n",
    "\n",
    "def has_cycle(head):\n",
    "  slow, fast = head, head\n",
    "  while fast is not None and fast.next is not None:\n",
    "    fast = fast.next.next\n",
    "    slow = slow.next\n",
    "    if slow == fast:\n",
    "      return True  # found the cycle\n",
    "  return False\n",
    "```"
   ]
  },
  {
   "cell_type": "markdown",
   "metadata": {},
   "source": [
    "A common useful pattern in these questions is to be able to reverse a linked list:\n",
    "\n",
    "```python\n",
    "def reverse(node: Node) -> Node:\n",
    "    previous = None\n",
    "    current = node\n",
    "    next_node = None\n",
    "\n",
    "    while current:\n",
    "        next_node = current.next\n",
    "        current.next = previous\n",
    "        previous = current\n",
    "        current = next_node\n",
    "\n",
    "    return previous\n",
    "```"
   ]
  },
  {
   "cell_type": "code",
   "execution_count": null,
   "metadata": {},
   "outputs": [],
   "source": []
  }
 ],
 "metadata": {
  "kernelspec": {
   "display_name": "Python 3",
   "language": "python",
   "name": "python3"
  },
  "language_info": {
   "codemirror_mode": {
    "name": "ipython",
    "version": 3
   },
   "file_extension": ".py",
   "mimetype": "text/x-python",
   "name": "python",
   "nbconvert_exporter": "python",
   "pygments_lexer": "ipython3",
   "version": "3.8.5"
  }
 },
 "nbformat": 4,
 "nbformat_minor": 4
}
