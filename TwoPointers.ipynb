{
 "cells": [
  {
   "cell_type": "markdown",
   "metadata": {},
   "source": [
    "# Two Pointers\n",
    "\n",
    "Clue: Given a sorted array or linked list, you need to find a set of elements that fulfil certain constraints.\n",
    "\n",
    "For example:\n",
    "\n",
    "<blockquote>Given a sorted array, find a pair of numbers that sum to a target</blockquote>\n",
    "\n",
    "\n",
    "__Solution:__\n",
    "\n",
    "Set up a pointer at the start and end of the array. If they are less than the sum, move the start pointer. If they are more than the sum, move the end pointer."
   ]
  },
  {
   "cell_type": "markdown",
   "metadata": {},
   "source": [
    "## Example Problems\n",
    "* Pair with target sum\n",
    "* Remove duplicates\n",
    "* Square sorted array\n",
    "* 3 sum problems, 4 sum\n",
    "* Subarray with product < target\n",
    "* Dutch national flag (3-way pivot)\n",
    "* Compare strings with backspaces\n",
    "* Minimum window sort"
   ]
  },
  {
   "cell_type": "code",
   "execution_count": null,
   "metadata": {},
   "outputs": [],
   "source": []
  }
 ],
 "metadata": {
  "kernelspec": {
   "display_name": "Python 3",
   "language": "python",
   "name": "python3"
  },
  "language_info": {
   "codemirror_mode": {
    "name": "ipython",
    "version": 3
   },
   "file_extension": ".py",
   "mimetype": "text/x-python",
   "name": "python",
   "nbconvert_exporter": "python",
   "pygments_lexer": "ipython3",
   "version": "3.8.5"
  }
 },
 "nbformat": 4,
 "nbformat_minor": 4
}
