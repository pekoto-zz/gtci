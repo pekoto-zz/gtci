{
 "cells": [
  {
   "cell_type": "markdown",
   "metadata": {},
   "source": [
    "# Topological Sort\n",
    "\n",
    "Topological sort is a pattern used to find an ordering for elements that are dependent on each other.\n",
    "\n",
    "## Example (DFS approach)\n",
    "\n",
    "```python\n",
    "def topological_sort(graph: DirectedGraphUnweighted) -> List[str]:\n",
    "    \"\"\"Returns a topological sorting of a graph, or raises an Exception if a loop is found.\n",
    "    1. Declare visited and ordering structures.\n",
    "    2. For every vertex...\n",
    "        2.1 If it hasn't been visited, kick off a depth first search\n",
    "        2.2 Add the vertex to visited and recursion stack\n",
    "        2.3 For each neighbour...\n",
    "            2.3.1 If it's in the recursion stack, there's a loop\n",
    "            2.3.2 If it hasn't been visited, dfs the neighbour\n",
    "        2.4 Add the vertex to the ordering\n",
    "        2.5 Remove it from the recursion stack.\n",
    "    3. Return the ordering in reverse.\n",
    "    Time: O(v+e): We traverse every vertex and edge.\n",
    "    Space: O(v): Need to store every vertex.\n",
    "    :param graph: The graph to topologically order.\n",
    "    :return: A topological ordering of the nodes.\n",
    "    \"\"\"\n",
    "    visited = set()\n",
    "    ordering = []\n",
    "\n",
    "    for vertex in graph.vertices():\n",
    "        if vertex not in visited:\n",
    "            _dfs(graph, vertex, visited, ordering)\n",
    "\n",
    "    # Returns the ordering in reverse.\n",
    "    return ordering[::-1]\n",
    "\n",
    "\n",
    "def _dfs(graph: DirectedGraphUnweighted,\n",
    "         vertex: str,\n",
    "         visited: Set[str],\n",
    "         ordering: List[str],\n",
    "         stack: Set[str] = None) -> None:\n",
    "    stack = stack if stack else set()\n",
    "\n",
    "    visited.add(vertex)\n",
    "    stack.add(vertex)\n",
    "\n",
    "    for neighbour in graph.neighbours_to(vertex):\n",
    "        if neighbour in stack:\n",
    "            raise Exception(f'Cycle found in graph: {vertex}<>{neighbour}')\n",
    "\n",
    "        if neighbour not in visited:\n",
    "            _dfs(graph, neighbour, visited, ordering, stack)\n",
    "\n",
    "    ordering.append(vertex)\n",
    "    stack.remove(vertex)\n",
    "```\n",
    "\n",
    "## Example (Khan's Agorithm)"
   ]
  },
  {
   "cell_type": "code",
   "execution_count": null,
   "metadata": {},
   "outputs": [],
   "source": []
  }
 ],
 "metadata": {
  "kernelspec": {
   "display_name": "Python 3",
   "language": "python",
   "name": "python3"
  },
  "language_info": {
   "codemirror_mode": {
    "name": "ipython",
    "version": 3
   },
   "file_extension": ".py",
   "mimetype": "text/x-python",
   "name": "python",
   "nbconvert_exporter": "python",
   "pygments_lexer": "ipython3",
   "version": "3.8.5"
  }
 },
 "nbformat": 4,
 "nbformat_minor": 4
}
