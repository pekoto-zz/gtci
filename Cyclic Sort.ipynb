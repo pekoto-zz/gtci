{
 "cells": [
  {
   "cell_type": "markdown",
   "metadata": {},
   "source": [
    "# Cyclic Sort\n",
    "\n",
    "Cyclic sort is a way to deal with numbers in an array in a given range.\n",
    "\n",
    "```python\n",
    "# Given an array with numbers 1...n, sort if in-place.\n",
    "# Here we use cyclic sort:\n",
    "# 1. The correct index for this element is given be nums[i]-1\n",
    "# 2. Check the number at that index: if it's not that number, swap it to that index.\n",
    "# 3. Only increment i once we have a correct number at index i.\n",
    "#\n",
    "# Time: O(n)\n",
    "# Space: O(1)\n",
    "def cyclic_sort(nums):\n",
    "  i = 0\n",
    "\n",
    "  while i < len(nums):\n",
    "    correct_index = nums[i] - 1\n",
    "    if nums[i] != nums[correct_index]:\n",
    "      nums[i], nums[correct_index] = nums[correct_index], nums[i]\n",
    "    else:\n",
    "      i += 1\n",
    "\n",
    "  return nums\n",
    "\n",
    "```\n",
    "\n",
    "Gotcha: When sorting, you must be careful to use a __while__ loop and NOT a for loop. Otherwise you will increment too quickly.\n",
    "\n",
    "## Example Problems\n",
    "* Find Missing Number 1...n\n",
    "* Find Duplicate Number 1...n\n",
    "* Smallest missing +ve number\n",
    "\n",
    "(Anything where the array has a numbers 1-n is a likely candidate, it seems.)"
   ]
  },
  {
   "cell_type": "code",
   "execution_count": null,
   "metadata": {},
   "outputs": [],
   "source": []
  }
 ],
 "metadata": {
  "kernelspec": {
   "display_name": "Python 3",
   "language": "python",
   "name": "python3"
  },
  "language_info": {
   "codemirror_mode": {
    "name": "ipython",
    "version": 3
   },
   "file_extension": ".py",
   "mimetype": "text/x-python",
   "name": "python",
   "nbconvert_exporter": "python",
   "pygments_lexer": "ipython3",
   "version": "3.8.5"
  }
 },
 "nbformat": 4,
 "nbformat_minor": 4
}
