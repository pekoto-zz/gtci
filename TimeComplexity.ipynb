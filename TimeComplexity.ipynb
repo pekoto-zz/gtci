{
 "cells": [
  {
   "cell_type": "markdown",
   "metadata": {},
   "source": [
    "# Time Complexity"
   ]
  },
  {
   "cell_type": "markdown",
   "metadata": {},
   "source": [
    "## Summing 0...n\n",
    "\n",
    "Given 0+1+2+3 = 6\n",
    "\n",
    "The sum of any sequence from 0-n can be given by  n(n-1)/2, where n is the number of elements in the sequence. \n",
    "\n",
    "4(3)/2 = 6.\n",
    "\n",
    "Also: n(n+1)/2, where n is the topmost number.\n",
    "\n",
    "3(4)/2 = 6.\n",
    "\n",
    "How is this useful?\n",
    "\n",
    "Consider the following code:\n",
    "\n",
    "```java\n",
    "void printunorderedPairs(int[] array) { \n",
    "    for (int i = 0; i < array.length; i++) { \n",
    "        for (int j = i + 1; j < array.length; j++) { \n",
    "            System.out.println(array[i] + \".n + array[j]); \n",
    "        } \n",
    "    } \n",
    "}\n",
    "```\n",
    "\n",
    "What is the time complexity?\n",
    "\n",
    "Well, j runs for...\n",
    "\n",
    "(n-1) + (n-2) + ...3+2+1\n",
    "\n",
    "n(n+1)/2 = O(n^2)\n",
    "\n"
   ]
  },
  {
   "cell_type": "markdown",
   "metadata": {},
   "source": [
    "# "
   ]
  },
  {
   "cell_type": "code",
   "execution_count": null,
   "metadata": {},
   "outputs": [],
   "source": []
  }
 ],
 "metadata": {
  "kernelspec": {
   "display_name": "Python 3",
   "language": "python",
   "name": "python3"
  },
  "language_info": {
   "codemirror_mode": {
    "name": "ipython",
    "version": 3
   },
   "file_extension": ".py",
   "mimetype": "text/x-python",
   "name": "python",
   "nbconvert_exporter": "python",
   "pygments_lexer": "ipython3",
   "version": "3.8.5"
  }
 },
 "nbformat": 4,
 "nbformat_minor": 4
}
